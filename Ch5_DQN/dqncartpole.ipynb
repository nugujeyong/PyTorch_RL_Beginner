{
 "metadata": {
  "language_info": {
   "codemirror_mode": {
    "name": "ipython",
    "version": 3
   },
   "file_extension": ".py",
   "mimetype": "text/x-python",
   "name": "python",
   "nbconvert_exporter": "python",
   "pygments_lexer": "ipython3",
   "version": "3.7.4"
  },
  "orig_nbformat": 2,
  "kernelspec": {
   "name": "python374jvsc74a57bd00600588c3b5f4418cbe7b5ebc6825b479f3bc010269d8b60d75058cdd010adfe",
   "display_name": "Python 3.7.4 64-bit"
  }
 },
 "nbformat": 4,
 "nbformat_minor": 2,
 "cells": [
  {
   "cell_type": "code",
   "execution_count": 1,
   "metadata": {},
   "outputs": [],
   "source": [
    "import numpy as np \n",
    "import matplotlib.pyplot as plt \n",
    "%matplotlib inline \n",
    "import gym"
   ]
  },
  {
   "cell_type": "code",
   "execution_count": 3,
   "metadata": {},
   "outputs": [],
   "source": [
    "from JSAnimation.IPython_display import display_animation\n",
    "from matplotlib import animation\n",
    "from IPython.display import display\n",
    "\n",
    "def display_frames_as_gif(frames):\n",
    "    '''\n",
    "    Displays a list of frames as a gif, with controls\n",
    "    '''\n",
    "    plt.figure(figsize=(frames[0].shape[1]/72.0, frames[0].shape[0]/72.0), dpi=72)\n",
    "    patch = plt.imshow(frames[0])\n",
    "    plt.axis('off')\n",
    "\n",
    "    def animate(i):\n",
    "        patch.set_data(frames[i])\n",
    "\n",
    "    anim = animation.FuncAnimation(plt.gcf(), animate, frames=len(frames), interval = 50)\n",
    "\n",
    "    anim.save('movie_cartpole_DQN.gif')\n",
    "    display(display_animation(anim, default_mode = 'loop'))"
   ]
  },
  {
   "cell_type": "code",
   "execution_count": 4,
   "metadata": {},
   "outputs": [
    {
     "output_type": "stream",
     "name": "stdout",
     "text": [
      "tr(name_a='이름 A', value_b=100)\n100\n"
     ]
    }
   ],
   "source": [
    "from collections import namedtuple\n",
    "\n",
    "Tr = namedtuple('tr', ('name_a', 'value_b'))\n",
    "Tr_object = Tr('이름 A', 100)\n",
    "\n",
    "print(Tr_object)\n",
    "print(Tr_object.value_b)"
   ]
  },
  {
   "cell_type": "code",
   "execution_count": 5,
   "metadata": {},
   "outputs": [],
   "source": [
    "Transition = namedtuple('Transition', ('state', 'action', 'next_state', 'reward'))"
   ]
  },
  {
   "cell_type": "code",
   "execution_count": 6,
   "metadata": {},
   "outputs": [],
   "source": [
    "ENV = 'CartPole-v0'\n",
    "GAMMA = 0.99\n",
    "MAX_STEPS = 200 #max steps per episode\n",
    "NUM_EPISODES = 500 #max num of episodes"
   ]
  },
  {
   "cell_type": "code",
   "execution_count": 7,
   "metadata": {},
   "outputs": [],
   "source": [
    "#memory class for saving transition\n",
    "\n",
    "class ReplayMemory:\n",
    "\n",
    "    def __init__(self, CAPACITY):\n",
    "        self.capacity = CAPACITY #max capacity of memory\n",
    "        self.memory = [] #variable for saving transition\n",
    "        self.index = 0 #index for saving into memory\n",
    "\n",
    "    def push(self, state, action, state_next, reward):\n",
    "        '''save transition = (state, action, state_next, reward) into memory '''\n",
    "\n",
    "        if len(self.memory) < self.capacity:\n",
    "            self.memory.append(None)\n",
    "\n",
    "        self.memory[self.index] = Transition(state, action, state_next, reward)\n",
    "\n",
    "        self.index = (self.index + 1) % self.capacity #next index for saving\n",
    "\n",
    "    def sample(self, batch_size):\n",
    "        '''sample saved trainsitions of batch_size randomly'''\n",
    "        return random.sample(self.memory, batch_size)\n",
    "\n",
    "    def __len__(self):\n",
    "        '''get length of saved transitions'''\n",
    "        return len(self.memory)"
   ]
  },
  {
   "cell_type": "code",
   "execution_count": 8,
   "metadata": {},
   "outputs": [
    {
     "output_type": "stream",
     "name": "stdout",
     "text": [
      "Sequential(\n  (fc1): Linear(in_features=4, out_features=32, bias=True)\n  (relu1): ReLU()\n  (fc2): Linear(in_features=32, out_features=32, bias=True)\n  (relu2): ReLU()\n  (fc3): Linear(in_features=32, out_features=100, bias=True)\n)\n"
     ]
    }
   ],
   "source": [
    "# brain class for DQN execution\n",
    "\n",
    "import random\n",
    "import torch\n",
    "from torch import nn \n",
    "from torch import optim \n",
    "import torch.nn.functional as F \n",
    "\n",
    "BATCH_SIZE = 32 \n",
    "CAPACITY = 10000\n",
    "\n",
    "class Brain: \n",
    "    def __init__(self, num_states, num_actions):\n",
    "        self.num_actions = num_actions #num of actions\n",
    "\n",
    "        self.memory = ReplayMemory(CAPACITY)\n",
    "\n",
    "        #configure neural network\n",
    "        self.model = nn.Sequential()\n",
    "        self.model.add_module('fc1', nn.Linear(num_states, 32))\n",
    "        self.model.add_module('relu1', nn.ReLU())\n",
    "        self.model.add_module('fc2', nn.Linear(32, 32))\n",
    "        self.model.add_module('relu2', nn.ReLU())\n",
    "        self.model.add_module('fc3', nn.Linear(32, num_actions))\n",
    "\n",
    "        print(self.model)\n",
    "\n",
    "        self.optimizer = optim.Adam(self.model.parameters(), lr=0.0001)\n",
    "    \n",
    "    def replay(self):\n",
    "        '''train nn with Experience Replay'''\n",
    "\n",
    "        #------------------------------------\n",
    "        # 1. check transition length\n",
    "        #------------------------------------\n",
    "        if len(self.memory) < BATCH_SIZE:\n",
    "            return \n",
    "\n",
    "        #------------------------------------\n",
    "        # 2. create minibatch\n",
    "        #------------------------------------\n",
    "        transitions = self.memory.sample(BATCH_SIZE)\n",
    "\n",
    "        # make transition minibatch \n",
    "        # (state, action, state_next, reward) * BATCH_SIZE into \n",
    "        # (state * BATCH_SIZE, action * BATCH_SIZE, state_next * BATCH_SIZE, reward * BATCH_SIZE)\n",
    "        batch = Transition(*zip(*transitions))\n",
    "\n",
    "        print(batch) #check batch \n",
    "\n",
    "        state_batch = torch.cat(batch.state)\n",
    "        action_batch = torch.cat(batch.action)\n",
    "        reward_batch = torch.cat(batch.reward)\n",
    "        non_final_next_states = torch.cat([s for s in batch.next_state\n",
    "                                            if s in not None])\n",
    "\n",
    "        #-------------------------------------\n",
    "        # 3. calculate Q(s_t, a_t)\n",
    "        #-------------------------------------\n",
    "\n",
    "        self.model.eval() # set nn to evaluation mode\n",
    "        \n",
    "        # calc Q(s_t, a_t)\n",
    "        state_action_values = self.model(state_batch).gather(1, action_batch)\n",
    "\n",
    "        # calc"
   ]
  },
  {
   "cell_type": "code",
   "execution_count": null,
   "metadata": {},
   "outputs": [],
   "source": []
  }
 ]
}